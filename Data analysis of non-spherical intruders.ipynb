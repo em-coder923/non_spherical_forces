{
 "cells": [
  {
   "cell_type": "code",
   "execution_count": 1,
   "metadata": {},
   "outputs": [],
   "source": [
    "# %matplotlib qt\n",
    "# %matplotlib inline\n",
    "import pandas as pd\n",
    "import numpy as np\n",
    "\n",
    "import matplotlib.pyplot as plt\n",
    "import matplotlib.animation as animation\n",
    "from mpl_toolkits.mplot3d import Axes3D\n",
    "import matplotlib.cm as cm\n",
    "import matplotlib.animation\n",
    "\n",
    "from scipy import io\n",
    "import math\n",
    "import csv\n",
    "import time\n"
   ]
  },
  {
   "cell_type": "markdown",
   "metadata": {},
   "source": [
    "# Data Analysis of Forces on Non-Spherical Intruders\n",
    "\n",
    "__To Complete:__\n",
    "- 1.1 Read Data from Binary File "
   ]
  },
  {
   "cell_type": "markdown",
   "metadata": {},
   "source": [
    "## Read Data from Binary File\n",
    "\n",
    "A file containing 20 variables for N number of particles for time t is to be opened, read, and stored. "
   ]
  },
  {
   "cell_type": "code",
   "execution_count": null,
   "metadata": {},
   "outputs": [],
   "source": [
    "import codecs\n",
    "\n",
    "NF = 20\n",
    "filename = 'output_4_2__2_10mm_Rods.dat'\n",
    "\n",
    "my_file = open(filename)\n",
    "print(my_file)\n",
    "\n",
    "# 'r', encoding = 'cp1252'\n"
   ]
  },
  {
   "cell_type": "code",
   "execution_count": null,
   "metadata": {},
   "outputs": [],
   "source": [
    "with open(filename, 'r', encoding='cp1252') as file:\n",
    "    print(file.read(1))"
   ]
  },
  {
   "cell_type": "code",
   "execution_count": null,
   "metadata": {},
   "outputs": [],
   "source": [
    "f = codecs.open(filename, 'rb', 'cp1252')\n",
    "print(f.readline(0))"
   ]
  },
  {
   "cell_type": "code",
   "execution_count": null,
   "metadata": {},
   "outputs": [],
   "source": [
    "import chardet    \n",
    "rawdata = open('output_4_2__2_10mm_Rods.dat', 'rb').read()\n",
    "result = chardet.detect(rawdata)\n",
    "charenc = result['encoding']"
   ]
  },
  {
   "cell_type": "code",
   "execution_count": null,
   "metadata": {},
   "outputs": [],
   "source": [
    "filename='output_4_2__2_10mm_Rods.dat'\n",
    "readBinDataSE(filename,1,50,20000)\n",
    "print(pData.size)"
   ]
  },
  {
   "cell_type": "markdown",
   "metadata": {},
   "source": [
    "## Plot Data\n",
    "Plot the received data as a 2D and 3D animation. The particles should be color mapped according to their magnitude of velocity. "
   ]
  },
  {
   "cell_type": "code",
   "execution_count": 4,
   "metadata": {},
   "outputs": [
    {
     "data": {
      "text/plain": [
       "(20, 20000, 49)"
      ]
     },
     "execution_count": 4,
     "metadata": {},
     "output_type": "execute_result"
    }
   ],
   "source": [
    "contents = io.loadmat('pData_mat.mat') #pData 1,50,20000\n",
    "pData=contents['pData']\n",
    "pData.shape"
   ]
  },
  {
   "cell_type": "markdown",
   "metadata": {},
   "source": [
    "### 2D Scatter Plot (Plot2D): 'Frame' or 'Animate'"
   ]
  },
  {
   "cell_type": "code",
   "execution_count": 2,
   "metadata": {
    "code_folding": [
     3,
     25
    ]
   },
   "outputs": [],
   "source": [
    "%matplotlib qt\n",
    "def Plot2D(t,frame):\n",
    "\n",
    "    if t == 'Frame':\n",
    "        xp=pData[2,:,frame] # note: x in pData is z for python\n",
    "        yp=pData[4,:,frame] # note: y in pData is y for python\n",
    "        zp=pData[3,:,frame] # note: z in pData is x for python\n",
    "\n",
    "        vp=pData[6,:,frame] #Importing zeroes :(\n",
    "        wp=pData[7,:,frame] \n",
    "        up=pData[8,:,frame]\n",
    "\n",
    "        umag=np.sqrt(up**2+vp**2+wp**2)\n",
    "\n",
    "        fig = plt.figure()\n",
    "        ax = fig.add_subplot(111)\n",
    "\n",
    "        # Axes Properties \n",
    "        ax.set_xlabel('X')\n",
    "        ax.set_ylabel('Y')\n",
    "        ax.set_title('2D Test: Time = %i' %frame)\n",
    "\n",
    "        ax.scatter(yp, zp, c=umag, cmap=cm.jet, s=0.1)\n",
    "        plt.show()\n",
    "\n",
    "    if t == 'Animate':\n",
    "        time = frame #Set the time frame\n",
    "\n",
    "        fig = plt.figure()\n",
    "        ax = fig.add_subplot(111)\n",
    "        plt.ion() #Animate plot\n",
    "\n",
    "        for i in range(time):    \n",
    "            xp=pData[2,:,i] # note: x in pData is z for python\n",
    "            yp=pData[4,:,i] # note: y in pData is y for python\n",
    "            zp=pData[3,:,i] # note: z in pData is x for python\n",
    "\n",
    "            vp=pData[6,:,i]\n",
    "            wp=pData[7,:,i]\n",
    "            up=pData[8,:,i]\n",
    "            umag=np.sqrt(up**2+vp**2+wp**2) # magnitude of velocity\n",
    "\n",
    "            plt.scatter(yp,zp, s=.1, c=umag, cmap=cm.jet)\n",
    "            plt.xlabel('Z')\n",
    "            plt.ylabel('Y')\n",
    "            plt.axis([0,1.0,0,1.0])\n",
    "            plt.title('2D Scatter: Time = %i' %i)\n",
    "            plt.draw()\n",
    "            plt.pause(0.2)\n",
    "            plt.clf()\n",
    "        plt.waitforbuttonpress()"
   ]
  },
  {
   "cell_type": "markdown",
   "metadata": {},
   "source": [
    "### Test 3D Scatter Plot, 1 Frame"
   ]
  },
  {
   "cell_type": "code",
   "execution_count": 5,
   "metadata": {
    "code_folding": [
     1
    ]
   },
   "outputs": [
    {
     "name": "stderr",
     "output_type": "stream",
     "text": [
      "Traceback (most recent call last):\n",
      "  File \"C:\\Users\\emmye\\Anaconda3\\lib\\site-packages\\matplotlib\\backends\\backend_qt5.py\", line 505, in _draw_idle\n",
      "    self.draw()\n",
      "  File \"C:\\Users\\emmye\\Anaconda3\\lib\\site-packages\\matplotlib\\backends\\backend_agg.py\", line 388, in draw\n",
      "    self.figure.draw(self.renderer)\n",
      "  File \"C:\\Users\\emmye\\Anaconda3\\lib\\site-packages\\matplotlib\\artist.py\", line 38, in draw_wrapper\n",
      "    return draw(artist, renderer, *args, **kwargs)\n",
      "  File \"C:\\Users\\emmye\\Anaconda3\\lib\\site-packages\\matplotlib\\figure.py\", line 1709, in draw\n",
      "    renderer, self, artists, self.suppressComposite)\n",
      "  File \"C:\\Users\\emmye\\Anaconda3\\lib\\site-packages\\matplotlib\\image.py\", line 135, in _draw_list_compositing_images\n",
      "    a.draw(renderer)\n",
      "  File \"C:\\Users\\emmye\\Anaconda3\\lib\\site-packages\\matplotlib\\artist.py\", line 38, in draw_wrapper\n",
      "    return draw(artist, renderer, *args, **kwargs)\n",
      "  File \"C:\\Users\\emmye\\Anaconda3\\lib\\site-packages\\mpl_toolkits\\mplot3d\\axes3d.py\", line 306, in draw\n",
      "    axis.draw(renderer)\n",
      "  File \"C:\\Users\\emmye\\Anaconda3\\lib\\site-packages\\matplotlib\\artist.py\", line 38, in draw_wrapper\n",
      "    return draw(artist, renderer, *args, **kwargs)\n",
      "  File \"C:\\Users\\emmye\\Anaconda3\\lib\\site-packages\\mpl_toolkits\\mplot3d\\axis3d.py\", line 290, in draw\n",
      "    self.label.draw(renderer)\n",
      "  File \"C:\\Users\\emmye\\Anaconda3\\lib\\site-packages\\matplotlib\\artist.py\", line 38, in draw_wrapper\n",
      "    return draw(artist, renderer, *args, **kwargs)\n",
      "  File \"C:\\Users\\emmye\\Anaconda3\\lib\\site-packages\\matplotlib\\text.py\", line 670, in draw\n",
      "    bbox, info, descent = textobj._get_layout(renderer)\n",
      "  File \"C:\\Users\\emmye\\Anaconda3\\lib\\site-packages\\matplotlib\\text.py\", line 291, in _get_layout\n",
      "    ismath=\"TeX\" if self.get_usetex() else False)\n",
      "  File \"C:\\Users\\emmye\\Anaconda3\\lib\\site-packages\\matplotlib\\backends\\backend_agg.py\", line 210, in get_text_width_height_descent\n",
      "    font = self._get_agg_font(prop)\n",
      "  File \"C:\\Users\\emmye\\Anaconda3\\lib\\site-packages\\matplotlib\\backends\\backend_agg.py\", line 246, in _get_agg_font\n",
      "    font = get_font(fname)\n",
      "  File \"C:\\Users\\emmye\\Anaconda3\\lib\\site-packages\\matplotlib\\font_manager.py\", line 1341, in get_font\n",
      "    return _get_font(filename, hinting_factor)\n",
      "RuntimeError: In FT2Font: Can not load face.\n",
      "Traceback (most recent call last):\n",
      "  File \"C:\\Users\\emmye\\Anaconda3\\lib\\site-packages\\matplotlib\\backends\\backend_qt5.py\", line 505, in _draw_idle\n",
      "    self.draw()\n",
      "  File \"C:\\Users\\emmye\\Anaconda3\\lib\\site-packages\\matplotlib\\backends\\backend_agg.py\", line 388, in draw\n",
      "    self.figure.draw(self.renderer)\n",
      "  File \"C:\\Users\\emmye\\Anaconda3\\lib\\site-packages\\matplotlib\\artist.py\", line 38, in draw_wrapper\n",
      "    return draw(artist, renderer, *args, **kwargs)\n",
      "  File \"C:\\Users\\emmye\\Anaconda3\\lib\\site-packages\\matplotlib\\figure.py\", line 1709, in draw\n",
      "    renderer, self, artists, self.suppressComposite)\n",
      "  File \"C:\\Users\\emmye\\Anaconda3\\lib\\site-packages\\matplotlib\\image.py\", line 135, in _draw_list_compositing_images\n",
      "    a.draw(renderer)\n",
      "  File \"C:\\Users\\emmye\\Anaconda3\\lib\\site-packages\\matplotlib\\artist.py\", line 38, in draw_wrapper\n",
      "    return draw(artist, renderer, *args, **kwargs)\n",
      "  File \"C:\\Users\\emmye\\Anaconda3\\lib\\site-packages\\mpl_toolkits\\mplot3d\\axes3d.py\", line 306, in draw\n",
      "    axis.draw(renderer)\n",
      "  File \"C:\\Users\\emmye\\Anaconda3\\lib\\site-packages\\matplotlib\\artist.py\", line 38, in draw_wrapper\n",
      "    return draw(artist, renderer, *args, **kwargs)\n",
      "  File \"C:\\Users\\emmye\\Anaconda3\\lib\\site-packages\\mpl_toolkits\\mplot3d\\axis3d.py\", line 290, in draw\n",
      "    self.label.draw(renderer)\n",
      "  File \"C:\\Users\\emmye\\Anaconda3\\lib\\site-packages\\matplotlib\\artist.py\", line 38, in draw_wrapper\n",
      "    return draw(artist, renderer, *args, **kwargs)\n",
      "  File \"C:\\Users\\emmye\\Anaconda3\\lib\\site-packages\\matplotlib\\text.py\", line 670, in draw\n",
      "    bbox, info, descent = textobj._get_layout(renderer)\n",
      "  File \"C:\\Users\\emmye\\Anaconda3\\lib\\site-packages\\matplotlib\\text.py\", line 291, in _get_layout\n",
      "    ismath=\"TeX\" if self.get_usetex() else False)\n",
      "  File \"C:\\Users\\emmye\\Anaconda3\\lib\\site-packages\\matplotlib\\backends\\backend_agg.py\", line 210, in get_text_width_height_descent\n",
      "    font = self._get_agg_font(prop)\n",
      "  File \"C:\\Users\\emmye\\Anaconda3\\lib\\site-packages\\matplotlib\\backends\\backend_agg.py\", line 246, in _get_agg_font\n",
      "    font = get_font(fname)\n",
      "  File \"C:\\Users\\emmye\\Anaconda3\\lib\\site-packages\\matplotlib\\font_manager.py\", line 1341, in get_font\n",
      "    return _get_font(filename, hinting_factor)\n",
      "RuntimeError: In FT2Font: Can not load face.\n"
     ]
    }
   ],
   "source": [
    "%matplotlib qt\n",
    "def Plot3D_Frame(frame):\n",
    "    xp=pData[2,:,frame] # note: x in pData is z for python\n",
    "    yp=pData[4,:,frame] # note: y in pData is y for python\n",
    "    zp=pData[3,:,frame] # note: z in pData is x for python\n",
    "\n",
    "    vp, wp, up =pData[6,:,frame], pData[7,:,frame], pData[8,:,frame]\n",
    "    umag=np.sqrt(up**2+vp**2+wp**2)\n",
    "\n",
    "    fig = plt.figure()\n",
    "    ax = fig.add_subplot(111, projection='3d')\n",
    "\n",
    "    # Axes Properties \n",
    "    ax.set_xlabel('X'), ax.set_ylabel('Y'), ax.set_zlabel('Z')\n",
    "    ax.set_title('2D Test: Time = %i' %frame)\n",
    "\n",
    "    ax.scatter(yp,xp,zp, c=umag, s=0.1)\n",
    "    plt.show()\n",
    "\n",
    "Plot3D_Frame(3)"
   ]
  },
  {
   "cell_type": "markdown",
   "metadata": {},
   "source": [
    "### 3D Scatter Plot, Animated"
   ]
  },
  {
   "cell_type": "code",
   "execution_count": null,
   "metadata": {},
   "outputs": [],
   "source": [
    "#Problem with Title, but outputs correct sequence\n",
    "%matplotlib qt\n",
    "\n",
    "time = 5\n",
    "\n",
    "fig = plt.figure()\n",
    "ax = fig.add_subplot(111, projection='3d')\n",
    "plt.ion()\n",
    "\n",
    "vp, wp, up =pData[6,:,0], pData[7,:,0], pData[8,:,0]\n",
    "umag=np.sqrt(up**2+vp**2+wp**2)\n",
    "\n",
    "sc = ax.scatter(pData[2,:,0], pData[4,:,0], pData[3,:,0], s = 0.1, c=umag, alpha = 0.5)\n",
    "\n",
    "def update(i):\n",
    "    sc._offsets3d = (pData[2,:,i], pData[4,:,i], pData[3,:,i])\n",
    "    vp, wp, up =pData[6,:,i], pData[7,:,i], pData[8,:,i]\n",
    "    umag = np.sqrt(up**2+vp**2+wp**2)\n",
    "    ax.set_title('3D Scatter: t = %i' %i)\n",
    "    \n",
    "ax.set_xlabel('X')\n",
    "ax.set_ylabel('Y')\n",
    "ax.set_zlabel('Z')\n",
    "ax.view_init(20, 10)\n",
    "\n",
    "ani = matplotlib.animation.FuncAnimation(fig, update, frames=time, interval = 10)"
   ]
  },
  {
   "cell_type": "markdown",
   "metadata": {},
   "source": [
    "## Particle Shape and Volume\n",
    "\n",
    "Assume we have two particles:\n",
    "- Blue disks: d=6.35mm; l=3.175mm\n",
    "- Red rods: d=3.175mm; l=4.75mm\n",
    "\n",
    "We want to plot the shape of the disk and rod and then calculate their respective volume."
   ]
  },
  {
   "cell_type": "markdown",
   "metadata": {},
   "source": [
    "### Plot Superellipoids"
   ]
  },
  {
   "cell_type": "code",
   "execution_count": null,
   "metadata": {
    "code_folding": [
     6,
     26
    ]
   },
   "outputs": [],
   "source": [
    "#Plots blue rods and red disks. \n",
    "\n",
    "%matplotlib inline\n",
    "list_center = [(0,0,0)]\n",
    "list_radius = [1] #Default\n",
    "\n",
    "def plt_prtcl_1(list_center, list_radius):\n",
    "  for c, r in zip(list_center, list_radius):\n",
    "    ax = fig.gca(projection='3d')\n",
    "    \n",
    "    #Paramaters \n",
    "    particle, frame = 3,0\n",
    "    SE_a, SE_b, SE_c = pData[11,particle,frame], pData[12,particle,frame], pData[13,particle,frame]\n",
    "    s, t = 2, 8\n",
    "    # draw superellipsoid\n",
    "    w, n = np.mgrid[-pi:pi:50j, (-pi/2):(pi/2):50j]\n",
    "    x = SE_a*(sign(cos(n))*abs(cos(n))**(2/t))*(sign(cos(w))*abs(cos(w))**(2/s))\n",
    "    y = SE_b*(sign(cos(n))*abs(cos(n))**(2/t))*(sign(sin(w))*abs(sin(w))**(2/s))\n",
    "    z = SE_c*(sign(sin(n))*abs(sin(n))**(2/t))\n",
    "\n",
    "\n",
    "    ax.plot_surface(x-c[0], y-c[1], z-c[2], color='b', alpha=0.5*np.random.random()+0.5)\n",
    "    ax.set_xlabel('X'), ax.set_ylabel('Y'), ax.set_zlabel('Z')\n",
    "    ax.set_xlim(-0.002, 0.002), ax.set_ylim(-0.002,0.002), ax.set_zlim(-0.005,0.005)\n",
    "    ax.set_title('R1: Blue Rods')\n",
    "    \n",
    "def plt_prtcl_2(list_center, list_radius):\n",
    "  for c, r in zip(list_center, list_radius):\n",
    "    ax = fig.gca(projection='3d')\n",
    "    \n",
    "    #Paramaters \n",
    "    particle, frame = 2,0\n",
    "    SE_a, SE_b, SE_c = pData[11,particle,frame], pData[12,particle,frame], pData[13,particle,frame]\n",
    "    s, t = 2, 8\n",
    "    # draw superellipsoid\n",
    "    w, n = np.mgrid[-pi:pi:50j, (-pi/2):(pi/2):50j]\n",
    "    x = SE_a*(sign(cos(n))*abs(cos(n))**(2/t))*(sign(cos(w))*abs(cos(w))**(2/s))\n",
    "    y = SE_b*(sign(cos(n))*abs(cos(n))**(2/t))*(sign(sin(w))*abs(sin(w))**(2/s))\n",
    "    z = SE_c*(sign(sin(n))*abs(sin(n))**(2/t))\n",
    "\n",
    "\n",
    "    ax.plot_surface(x-c[0], y-c[1], z-c[2], color='r', alpha=0.5*np.random.random()+0.5)\n",
    "    ax.set_xlabel('X'), ax.set_ylabel('Y'), ax.set_zlabel('Z')\n",
    "    ax.set_xlim(-0.002, 0.002), ax.set_ylim(-0.002,0.002), ax.set_zlim(-0.005,0.005)\n",
    "    ax.set_title('D1: Red Disks')\n",
    "\n",
    "fig = plt.figure(figsize=(8,8))\n",
    "plt_prtcl_1(list_center, list_radius) \n",
    "\n",
    "fig = plt.figure(figsize=(8,8))\n",
    "plt_prtcl_2(list_center, list_radius) \n"
   ]
  },
  {
   "cell_type": "markdown",
   "metadata": {},
   "source": [
    "### Volume Calculation (s=2, t=8):\n",
    "\n",
    "Calculate the volume of each particle.\n",
    "\n",
    "- Particle 2, t=0 : a=0.002\n",
    "- Particle 3, t=0: b=0.001"
   ]
  },
  {
   "cell_type": "code",
   "execution_count": null,
   "metadata": {},
   "outputs": [],
   "source": [
    "a = np.array(pData[13,:,48])\n",
    "unique, counts = np.unique(a, return_counts=True)\n",
    "dict(zip(unique, counts))"
   ]
  },
  {
   "cell_type": "code",
   "execution_count": null,
   "metadata": {},
   "outputs": [],
   "source": [
    "frame = 0\n",
    "for particle in (2,3):\n",
    "    SE_a = pData[11,particle,frame]\n",
    "    SE_b = pData[12,particle,frame]\n",
    "    SE_c = pData[13,particle,frame]\n",
    "    SE_s = pData[15,particle,frame] #Check s=15 or 14, bc outputs 2.0 and 8.0, resp\n",
    "    SE_t = pData[14,particle,frame]\n",
    "\n",
    "    V = 1.379061249756*SE_a*SE_b*SE_c\n",
    "    print(particle, SE_a,SE_b,SE_c,V)"
   ]
  },
  {
   "cell_type": "markdown",
   "metadata": {},
   "source": [
    "## Bins and Counting Particles\n",
    "\n",
    "The goal of this section is to divide a 2D one time-frame plot into a set amount of bins and count the number of particles (and their type) within each bin. The next step is to take the volume and calculate the concentration of red or blue particles and graph."
   ]
  },
  {
   "cell_type": "code",
   "execution_count": null,
   "metadata": {
    "code_folding": [
     0
    ]
   },
   "outputs": [],
   "source": [
    "# 1 time frame of a 2D scatterplot divided into bins\n",
    "def TimeFrameSc(frame,bin_num):\n",
    "\n",
    "    fig = plt.figure()\n",
    "    ax = fig.add_subplot(111)\n",
    "\n",
    "    xp=pData[4,:,frame] # note: x in pData is z for python\n",
    "    yp=pData[3,:,frame] # note: y in pData is y for python\n",
    "    zp=pData[2,:,frame] # note: z in pData is x for python\n",
    "\n",
    "    vp=pData[5,:,frame] \n",
    "    wp=pData[6,:,frame] \n",
    "    up=pData[7,:,frame]\n",
    "\n",
    "    umag=np.sqrt(up**2+vp**2+wp**2)\n",
    "\n",
    "    # Divide into bins\n",
    "    SE_a=pData[12,:,frame]\n",
    "\n",
    "    bins = np.linspace(0,1,(bin_num+1))\n",
    "\n",
    "    # Axes Properties \n",
    "    ax.set_xlabel('X')\n",
    "    ax.set_ylabel('Y')\n",
    "    ax.set_title('2D Test: Time = %i' %frame)\n",
    "\n",
    "    ax.set_xlim(0,1.0)\n",
    "    ax.set_ylim(0,1.0)\n",
    "\n",
    "    for i in bins:\n",
    "        ax.axvline(x=i, c= 'r')\n",
    "\n",
    "    ax.scatter(xp, yp, c=umag, cmap=cm.jet, s=0.1)\n",
    "    return plt.show()"
   ]
  },
  {
   "cell_type": "markdown",
   "metadata": {},
   "source": [
    "### Plot Particle Number per Bin"
   ]
  },
  {
   "cell_type": "code",
   "execution_count": null,
   "metadata": {
    "code_folding": [
     1
    ]
   },
   "outputs": [],
   "source": [
    "# Lineplot of 1 timeframe, shows number of particles in each bin\n",
    "def Prtc_Number(frame, bin_num):\n",
    "    xp=pData[4,:,frame]\n",
    "    yp=pData[3,:,frame]\n",
    "\n",
    "    SE_a=pData[12,:,frame]\n",
    "\n",
    "    bins = np.linspace(0,1,(bin_num+1))\n",
    "\n",
    "    pt_data = []\n",
    "    del pt_data\n",
    "    pt_data = []\n",
    "\n",
    "    for i in enumerate(bins):\n",
    "        good_nums_1, good_nums_2 = 0,0\n",
    "        for ii in range(len(yp)):    \n",
    "            row =[]\n",
    "            if i[1] < xp[ii] <= i[1]+bins[1] and SE_a[ii] == 0.0010000000474974513:\n",
    "                good_nums_1 +=1\n",
    "            if i[1] < xp[ii] <= i[1]+bins[1] and SE_a[ii] == 0.0020000000949949026:\n",
    "                good_nums_2 +=1\n",
    "        row.append(good_nums_1)\n",
    "        row.append(good_nums_2)\n",
    "        pt_data.append(row)\n",
    "        del(good_nums_1, good_nums_2, row)\n",
    "\n",
    "    pt_data = pt_data[:len(pt_data)-1]\n",
    "    pt_data = np.array(pt_data)\n",
    "    tot_num = sum(sum(pt_data))\n",
    "\n",
    "    bin_avg = [x- bins[1]/2 for x in bins]\n",
    "    bin_pts = np.delete(bin_avg, 0)\n",
    "\n",
    "    fig, (ax1, ax2) = plt.subplots(1, 2, figsize = (10,5))\n",
    "    fig.suptitle('Concentration of Particles')\n",
    "    ax1.plot(bin_pts, pt_data[:,0])\n",
    "    ax2.plot(bin_pts, pt_data[:,1])\n",
    "    ax1.title.set_text('No. of Particles: R1'), ax2.title.set_text('No. of Particles: D1')\n",
    "    plt.setp(ax1, xlim=(0,1), ylim=(0,4000))\n",
    "    plt.setp(ax2, xlim=(0,1), ylim=(0,4000))\n",
    "\n",
    "    return"
   ]
  },
  {
   "cell_type": "code",
   "execution_count": null,
   "metadata": {},
   "outputs": [],
   "source": [
    "%matplotlib inline\n",
    "TimeFrameSc(48,5)\n",
    "Prtc_Number(48,5)"
   ]
  },
  {
   "cell_type": "markdown",
   "metadata": {},
   "source": [
    "### Plot Concentration per Bin\n",
    "\n",
    "By dissertation: Concentration of species i, ci, in a bin equals sum of partial volume of particle j of species i over total volume of all particles in the bin."
   ]
  },
  {
   "cell_type": "code",
   "execution_count": null,
   "metadata": {
    "code_folding": [
     1
    ]
   },
   "outputs": [],
   "source": [
    "#Yield Particle Conc \n",
    "def Prtc_Conc_SetVol(frame, bin_num):\n",
    "    xp=pData[4,:,frame]\n",
    "    yp=pData[3,:,frame]\n",
    "\n",
    "    SE_a=pData[12,:,frame]\n",
    "\n",
    "    bins = np.linspace(0,1,(bin_num+1))\n",
    "\n",
    "    pt_data = []\n",
    "    del pt_data\n",
    "    pt_data = []\n",
    "\n",
    "    for i in enumerate(bins):\n",
    "        vol_1, vol_2 = 0,0\n",
    "        for ii in range(len(yp)):    \n",
    "            row =[]\n",
    "            if i[1] < xp[ii] <= i[1]+bins[1] and SE_a[ii] == 0.0010000000474974513:\n",
    "                vol_1 += 6.895306749676841e-09 \n",
    "            if i[1] < xp[ii] <= i[1]+bins[1] and SE_a[ii] == 0.0020000000949949026:\n",
    "                vol_2 += 5.516245785046772e-09\n",
    "        vol_tot = vol_1+vol_2\n",
    "        vol_1 = vol_1/vol_tot\n",
    "        vol_2 = vol_2/vol_tot\n",
    "        row.append(vol_1)\n",
    "        row.append(vol_2)\n",
    "        pt_data.append(row)\n",
    "        del(vol_1, vol_2, row)\n",
    "\n",
    "    pt_data = pt_data[:len(pt_data)-1]\n",
    "    pt_data = np.array(pt_data)\n",
    "    tot_num = sum(sum(pt_data))\n",
    "\n",
    "    bin_avg = [x- bins[1]/2 for x in bins]\n",
    "    bin_pts = np.delete(bin_avg, 0)\n",
    "\n",
    "    fig, (ax1, ax2) = plt.subplots(1, 2, figsize=(10,5))\n",
    "    fig.suptitle('Concentration of Particles')\n",
    "    ax1.title.set_text('Concentration of Group1'), ax2.title.set_text('Concentration of Group2')\n",
    "    ax1.plot(bin_pts, pt_data[:,0])\n",
    "    ax2.plot(bin_pts, pt_data[:,1])\n",
    "    plt.setp(ax1, xlim=(0,1), ylim=(0,1))\n",
    "    plt.setp(ax2, xlim=(0,1), ylim=(0,1))\n",
    "\n",
    "    return"
   ]
  },
  {
   "cell_type": "code",
   "execution_count": null,
   "metadata": {},
   "outputs": [],
   "source": [
    "Prtc_Conc_SetVol(48, 5)"
   ]
  },
  {
   "cell_type": "code",
   "execution_count": null,
   "metadata": {
    "code_folding": [
     0
    ]
   },
   "outputs": [],
   "source": [
    "def Prtc_Conc(frame, bin_num):\n",
    "    xp=pData[4,:,frame]\n",
    "    yp=pData[3,:,frame]\n",
    "\n",
    "    SE_a = pData[11,:,frame]\n",
    "    SE_b = pData[12,:,frame]\n",
    "    SE_c = pData[13,:,frame]\n",
    "\n",
    "    bins = np.linspace(0,1,(bin_num+1))\n",
    "\n",
    "    pt_data, V_tot_bin = [], []\n",
    "    del pt_data, V_tot_bin\n",
    "    pt_data = []\n",
    "    V_tot_bin = []\n",
    "\n",
    "    for i in enumerate(bins):\n",
    "        V_1, V_2, V_tot = 0,0,0\n",
    "        \n",
    "        for ii in range(len(yp)):    \n",
    "            row =[]\n",
    "            if i[1] < xp[ii] <= i[1]+bins[1] and SE_a[ii] == 0.0010000000474974513:\n",
    "                V_temp_1 = 1.379061249756*SE_a[ii]*SE_b[ii]*SE_c[ii]\n",
    "                V_1 += V_temp_1\n",
    "            if i[1] < xp[ii] <= i[1]+bins[1] and SE_a[ii] == 0.0020000000949949026:\n",
    "                V_temp_2 = 1.379061249756*SE_a[ii]*SE_b[ii]*SE_c[ii]\n",
    "                V_2 += V_temp_2\n",
    "        V_tot = V_1 + V_2\n",
    "        V_1_c = V_1/V_tot\n",
    "        V_2_c = V_2/V_tot\n",
    "        row.append(V_1_c)\n",
    "        row.append(V_2_c)\n",
    "        pt_data.append(row)\n",
    "        del(V_1, V_2, row, V_tot)\n",
    "    pt_data = pt_data[:len(pt_data)-1]\n",
    "    pt_data = np.array(pt_data)\n",
    "\n",
    "\n",
    "    bin_avg = [x- bins[1]/2 for x in bins]\n",
    "    bin_pts = np.delete(bin_avg, 0)\n",
    "\n",
    "    fig, (ax1, ax2) = plt.subplots(1, 2, figsize = (10,5))\n",
    "    fig.suptitle('Concentration of Particles')\n",
    "    ax1.plot(bin_pts, pt_data[:,0])\n",
    "    ax2.plot(bin_pts, pt_data[:,1])\n",
    "    ax1.title.set_text('Concentration of R1'), ax2.title.set_text('Concentration of R2')\n",
    "    ax1.set_xlim(0,1), ax2.set_xlim(0,1)\n",
    "    ax1.set_ylim(0,1), ax2.set_ylim(0,1)\n",
    "        \n",
    "    return plt.show()"
   ]
  },
  {
   "cell_type": "code",
   "execution_count": null,
   "metadata": {},
   "outputs": [],
   "source": [
    "TimeFrameSc(48,5)\n",
    "Prtc_Conc(48,5)"
   ]
  }
 ],
 "metadata": {
  "kernelspec": {
   "display_name": "Python 3",
   "language": "python",
   "name": "python3"
  },
  "language_info": {
   "codemirror_mode": {
    "name": "ipython",
    "version": 3
   },
   "file_extension": ".py",
   "mimetype": "text/x-python",
   "name": "python",
   "nbconvert_exporter": "python",
   "pygments_lexer": "ipython3",
   "version": "3.7.4"
  },
  "latex_envs": {
   "LaTeX_envs_menu_present": true,
   "autoclose": false,
   "autocomplete": true,
   "bibliofile": "biblio.bib",
   "cite_by": "apalike",
   "current_citInitial": 1,
   "eqLabelWithNumbers": true,
   "eqNumInitial": 1,
   "hotkeys": {
    "equation": "Ctrl-E",
    "itemize": "Ctrl-I"
   },
   "labels_anchors": false,
   "latex_user_defs": false,
   "report_style_numbering": false,
   "user_envs_cfg": false
  },
  "toc": {
   "base_numbering": 1,
   "nav_menu": {
    "height": "478.992px",
    "width": "413px"
   },
   "number_sections": true,
   "sideBar": true,
   "skip_h1_title": false,
   "title_cell": "Table of Contents",
   "title_sidebar": "Contents",
   "toc_cell": false,
   "toc_position": {},
   "toc_section_display": true,
   "toc_window_display": false
  }
 },
 "nbformat": 4,
 "nbformat_minor": 2
}
