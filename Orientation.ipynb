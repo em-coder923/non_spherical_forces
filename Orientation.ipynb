{
 "cells": [
  {
   "cell_type": "code",
   "execution_count": 3,
   "metadata": {
    "code_folding": [
     0
    ],
    "init_cell": true
   },
   "outputs": [
    {
     "data": {
      "text/plain": [
       "(20, 20000, 49)"
      ]
     },
     "execution_count": 3,
     "metadata": {},
     "output_type": "execute_result"
    }
   ],
   "source": [
    "#Packages\n",
    "import pandas as pd\n",
    "import numpy as np\n",
    "\n",
    "import matplotlib.font_manager\n",
    "import matplotlib.pyplot as plt\n",
    "import matplotlib.animation as animation\n",
    "from mpl_toolkits.mplot3d import Axes3D\n",
    "import matplotlib.cm as cm\n",
    "import matplotlib.animation\n",
    "\n",
    "from scipy import io\n",
    "import math as m \n",
    "import csv\n",
    "import time\n",
    "\n",
    "from numpy import pi, cos, sin, sign\n",
    "\n",
    "import pylab\n",
    "from mayavi import mlab\n",
    "from pyquaternion import Quaternion\n",
    "from scipy.stats import binned_statistic as bstat\n",
    "from scipy.spatial.transform import Rotation as R\n",
    "import quaternion\n",
    "\n",
    "import seaborn as sns\n",
    "\n",
    "contents = io.loadmat('pData_mat.mat') #pData 1,50,20000\n",
    "pData=contents['pData']\n",
    "pData.shape"
   ]
  },
  {
   "cell_type": "code",
   "execution_count": 4,
   "metadata": {
    "code_folding": [
     0
    ],
    "init_cell": true
   },
   "outputs": [
    {
     "data": {
      "text/plain": [
       "(20, 20000, 49)"
      ]
     },
     "execution_count": 4,
     "metadata": {},
     "output_type": "execute_result"
    }
   ],
   "source": [
    "def readData(filename, startN, endN, maxParticles):\n",
    "    NF = 20 #Number of data fields\n",
    "    \n",
    "    dt = np.dtype(np.float32)\n",
    "    f = open(filename, \"rb\")\n",
    "\n",
    "    p_data = np.zeros([NF,maxParticles,endN-startN])\n",
    "    \n",
    "    f.seek(0)\n",
    "    for i in range(endN-startN):\n",
    "        numParticles = np.fromfile(f, dtype=dt, count=1)\n",
    "        time = np.fromfile(f, dtype=dt, count=1)\n",
    "        temp = np.fromfile(f, dtype=dt, count=NF*int(numParticles)).reshape((int(numParticles), NF)).transpose()\n",
    "        p_data[:,0:temp.shape[1],i] = temp\n",
    "        del temp\n",
    "    return p_data\n",
    "pData = readData('output_4_2__2_10mm_Rods.dat', 1, 50, 20000)\n",
    "pData.shape"
   ]
  },
  {
   "cell_type": "markdown",
   "metadata": {},
   "source": [
    "# Trim and Cleanup Data\n",
    "\n",
    "- Dropping all zero values\n",
    "- Dropping particles who's:\n",
    "    - x-values are less than 0.15, greater than 0.9\n",
    "    - y-values are greater than 0.5"
   ]
  },
  {
   "cell_type": "code",
   "execution_count": null,
   "metadata": {
    "code_folding": [
     1
    ]
   },
   "outputs": [],
   "source": [
    "frame = 47\n",
    "df = pd.DataFrame(data={\n",
    "    'xp': pData[4,:,frame],\n",
    "    'yp': pData[2,:,frame],\n",
    "    'zp': pData[3,:,frame],\n",
    "    'omgx': pData[8,:,frame],\n",
    "    'omgz': pData[9,:,frame],\n",
    "    'omgy': pData[10,:,frame],\n",
    "    'SE_a': pData[11,:,frame],\n",
    "    'SE_b': pData[12,:,frame],\n",
    "    'SE_c': pData[13,:,frame],\n",
    "    'q0': pData[16,:,frame], #Keep q0 the same\n",
    "    'q1': -pData[19,:,frame], #swap q1 --> -q2\n",
    "    'q2': -pData[17,:,frame], # q2 --> -q3\n",
    "    'q3': -pData[18,:,frame]}) # q3 --> -q1\n",
    "sns.scatterplot(x='xp', y='zp', data=df, color='b')\n",
    "\n",
    "df = df[df.SE_a != 0]\n",
    "df = df[df.omgx != 0]\n",
    "\n",
    "# df.drop(df[df.xp < 0.15].index, inplace=True)\n",
    "# df.drop(df[df.xp > 0.9].index, inplace=True)\n",
    "# df.drop(df[df.zp > 0.5].index, inplace=True)\n",
    "\n",
    "\n",
    "fit = np.polyfit(df.xp, df.zp, 1)+0.04\n",
    "fit_fn = np.poly1d(fit)+0.04\n",
    "m,b = fit\n",
    "print(\"slope: \",m,\" intercept: \",b)\n",
    "\n",
    "df.drop(df[df.zp > m*df.xp+b].index, inplace=True)\n",
    "sns.scatterplot(x=\"xp\", y=\"zp\", data=df, color = 'g');\n"
   ]
  },
  {
   "cell_type": "code",
   "execution_count": 5,
   "metadata": {
    "code_folding": [
     1
    ]
   },
   "outputs": [],
   "source": [
    "def CleanUp(frame):\n",
    "    df = pd.DataFrame(data={\n",
    "        'xp': pData[4,:,frame],\n",
    "        'yp': pData[2,:,frame],\n",
    "        'zp': pData[3,:,frame],\n",
    "        'omgx': pData[8,:,frame],\n",
    "        'omgz': pData[9,:,frame],\n",
    "        'omgy': pData[10,:,frame],\n",
    "        'a': pData[11,:,frame],\n",
    "        'b': pData[12,:,frame],\n",
    "        'c': pData[13,:,frame],\n",
    "        'q0': pData[16,:,frame], #Keep q0 the same\n",
    "        'q1': -pData[19,:,frame], #swap q1 --> -q2\n",
    "        'q2': -pData[17,:,frame], # q2 --> -q3\n",
    "        'q3': -pData[18,:,frame]}) # q3 --> -q1\n",
    "\n",
    "    df = df[df.a != 0]\n",
    "    df = df[df.omgx != 0]\n",
    "    df = df.reset_index(drop=True)\n",
    "    \n",
    "    fit = np.polyfit(df.xp, df.zp, 1)+0.04\n",
    "    fit_fn = np.poly1d(fit)+0.04\n",
    "    m,b = fit\n",
    "\n",
    "    df.drop(df[df.zp > m*df.xp+b].index, inplace=True)\n",
    "    return df"
   ]
  },
  {
   "cell_type": "code",
   "execution_count": null,
   "metadata": {},
   "outputs": [],
   "source": [
    "df = CleanUp(48)\n",
    "df\n"
   ]
  },
  {
   "cell_type": "markdown",
   "metadata": {},
   "source": [
    "# Orientation and Rendering\n",
    "\n",
    "Two Particles:\n",
    "- Blue disks: d=6.35mm; l=3.175mm; SE_a = 0.002\n",
    "- Red rods: d=3.175mm; l=4.75mm; SE_a = 0.001\n",
    "\n"
   ]
  },
  {
   "cell_type": "markdown",
   "metadata": {},
   "source": [
    "# Plot Overlay of Rotated Particle"
   ]
  },
  {
   "cell_type": "code",
   "execution_count": 34,
   "metadata": {
    "code_folding": []
   },
   "outputs": [],
   "source": [
    "# mlab.init_notebook(backend='x3d')\n",
    "\n",
    "def drawParticle_overlay(particle_id, frame):\n",
    "    \n",
    "    a, b, c = pData[11,particle_id,frame], pData[12,particle_id,frame], pData[13,particle_id,frame]\n",
    "    s, t = 2, 8\n",
    "    q0 = pData[16, particle_id, frame]\n",
    "    q1=-pData[18,particle_id,frame] #swap q1 --> -q2\n",
    "    q2=-pData[17,particle_id,frame] # q2 --> -q3\n",
    "    q3=-pData[19,particle_id,frame] # q3 --> -q1\n",
    "    q = R.from_quat([q0,q1,q2,q3])\n",
    "    M = q.as_matrix()\n",
    "#     q = Quaternion(q0,q1,q2,q3)\n",
    "#     M = q.rotation_matrix\n",
    "    \n",
    "    x_0,y_0,z_0= 0,0,0  \n",
    "    \n",
    "    x, y, z = np.ogrid[-2*a:2*a:100j, -2*b:2*b:100j, -2*c:2*c:100j]\n",
    "    F = (abs(x/a)**s+abs(y/b)**s)**(t/s)+abs(z/c)**t-1\n",
    "    F_r = ((((M[0][0]*(x-x_0)+M[1][0]*(y-y_0)+M[2][0]*(z-z_0))/a)**s) + (((M[0][1]*(x-x_0)+M[1][1]*(y-y_0)+M[2][1]*(z-z_0))/b)**s))**(t/s)+(((M[0][2]*(x-x_0)+M[1][2]*(y-y_0)+M[2][2]*(z-z_0))/c)**t)-1\n",
    "    mlab.contour3d(F,contours=[0], transparent=True)\n",
    "    mlab.contour3d(F_r,contours=1,color=(0.2, 0.4, 0.5))\n",
    "    return mlab.show()\n",
    "#     mlab.axes()\n",
    "#     mlab.outline()\n",
    "#     img = mlab.screenshot()\n",
    "#     mlab.close()\n",
    "#     return plt.imshow(img)"
   ]
  },
  {
   "cell_type": "code",
   "execution_count": 35,
   "metadata": {},
   "outputs": [],
   "source": [
    "drawParticle_overlay(1,47)"
   ]
  },
  {
   "cell_type": "markdown",
   "metadata": {},
   "source": [
    "# Plot Location of Specific Particles"
   ]
  },
  {
   "cell_type": "code",
   "execution_count": null,
   "metadata": {},
   "outputs": [],
   "source": [
    "def callParticle(particle_id, frame):\n",
    "    df = CleanUp(frame)\n",
    "    x = df['xp'][particle_id]\n",
    "    z = df['zp'][particle_id]\n",
    "    sns.scatterplot(x=\"xp\", y=\"zp\", data=df, color = 'g');\n",
    "    plt.scatter(x,z, c= 'r')\n",
    "    return plt.show(), drawParticle_overlay(particle_id,frame)\n",
    "\n",
    "callParticle(4,0)"
   ]
  },
  {
   "cell_type": "markdown",
   "metadata": {},
   "source": [
    "# Render Many Particles"
   ]
  },
  {
   "cell_type": "code",
   "execution_count": 39,
   "metadata": {},
   "outputs": [],
   "source": [
    "# mlab.init_notebook(backend='x3d')\n",
    "bin_num = 500\n",
    "\n",
    "df = CleanUp(48) #This inputs the data into a dataframe at a specific time (i.e. 48)\n",
    "hist, xbins, zbins = np.histogram2d(df[\"xp\"], df[\"zp\"], bins = bin_num) \n",
    "\n",
    "df.drop(df[df.xp < xbins[0]].index, inplace=True)\n",
    "df.drop(df[df.xp > xbins[1]].index, inplace=True)\n",
    "\n",
    "# Calculate rotation matrix\n",
    "m=[]\n",
    "for i in range(len(df.xp)):\n",
    "    q = R.from_quat([df.q0.iloc[i], df.q1.iloc[i], df.q2.iloc[i], df.q3.iloc[i]])\n",
    "    M = q.as_matrix()\n",
    "    b = M.tolist()\n",
    "    m.append(b)\n",
    "df['M'] = m\n",
    "\n",
    "# Start plotting\n",
    "x, y, z = np.ogrid[-0.005:0.005:100j, -0.005:0.005:100j, -0.005:0.005:100j]\n",
    "t = 8\n",
    "s = 2\n",
    "\n",
    "@mlab.animate()\n",
    "def anim():\n",
    "    for i in range(len(df.xp)):\n",
    "        # Centered at origin (Works correctly)\n",
    "#         F_r = ((((df.M.iloc[i][0][0]*(x-0)+df.M.iloc[i][1][0]*(y-0)+df.M.iloc[i][2][0]*(z-0))/df.a.iloc[i])**s+((df.M.iloc[i][0][1]*(x-0)+df.M.iloc[i][1][1]*(y-0)+df.M.iloc[i][2][1]*(z-0))/df.b.iloc[i])**s)**(t/s)+((df.M.iloc[i][0][2]*(x-0)+df.M.iloc[i][1][2]*(y-0)+df.M.iloc[i][2][2]*(z-0))/df.c.iloc[i])**t)-1    \n",
    "\n",
    "        # Using x0, y0, z0 values (Works incorrectly)\n",
    "        F_r = ((((df.M.iloc[i][0][0]*abs(x-df.xp.iloc[i])+df.M.iloc[i][1][0]*abs(y-df.yp.iloc[i])+df.M.iloc[i][2][0]*abs(z-df.zp.iloc[i]))/df.a.iloc[i])**s+((df.M.iloc[i][0][1]*abs(x-df.xp.iloc[i])+df.M.iloc[i][1][1]*abs(y-df.yp.iloc[i])+df.M.iloc[i][2][1]*abs(z-df.zp.iloc[i]))/df.b.iloc[i])**s)**(t/s)+((df.M.iloc[i][0][2]*abs(x-df.xp.iloc[i])+df.M.iloc[i][1][2]*abs(y-df.yp.iloc[i])+df.M.iloc[i][2][2]*abs(z-df.zp.iloc[i]))/df.c.iloc[i])**t)-1    \n",
    "\n",
    "        #Plot the contour\n",
    "        mlab.contour3d(F_r, contours = [0])\n",
    "    yield\n",
    "anim()\n",
    "mlab.show()\n"
   ]
  },
  {
   "cell_type": "markdown",
   "metadata": {},
   "source": [
    "# Compare Euler Angles"
   ]
  },
  {
   "cell_type": "code",
   "execution_count": null,
   "metadata": {},
   "outputs": [],
   "source": [
    "df = CleanUp(48)\n",
    "r_z,r_y,r_x=[],[],[]\n",
    "for i in range(len(df['q0'])):\n",
    "    r = R.from_quat([df.q0.iloc[i], df.q1.iloc[i], df.q2.iloc[i], df.q3.iloc[i]])\n",
    "    f = r.as_euler('zyx', degrees = True)\n",
    "#     r = np.quaternion(df.q0.iloc[i], df.q1.iloc[i], df.q2.iloc[i], df.q3.iloc[i])\n",
    "#     f = quaternion.as_euler_angles(r)\n",
    "    #     f = np.rad2deg(quaternion.as_euler_angles(r))\n",
    "    r_z.append(f[0])\n",
    "    r_y.append(f[1])\n",
    "    r_x.append(f[2])\n",
    "\n",
    "df['r_z'] = r_z\n",
    "df['r_y'] = r_y\n",
    "df['r_x'] = r_x\n",
    "\n",
    "ma = df['r_z'].max()\n",
    "mi =df['r_z'].min()\n",
    "print(ma, mi)"
   ]
  },
  {
   "cell_type": "code",
   "execution_count": null,
   "metadata": {},
   "outputs": [],
   "source": [
    "frame = 47\n",
    "i = 15 #particle\n",
    "\n",
    "xp=pData[2,i,frame]\n",
    "zp=pData[3,i,frame]\n",
    "yp=pData[4,i,frame]\n",
    "\n",
    "vp=pData[5,i,frame]\n",
    "wp=pData[6,i,frame]\n",
    "up=pData[7,i,frame]\n",
    "\n",
    "omgx=pData[8,i,frame]\n",
    "omgz=pData[9,i,frame]\n",
    "omgy=pData[10,i,frame]\n",
    "\n",
    "a=pData[11,i,frame] #Lu has this switched, but when plotting looks better like this\n",
    "b=pData[12,i,frame]\n",
    "c=pData[13,i,frame]\n",
    "\n",
    "s=pData[15,i,frame] #s = 2.0, t=8.0\n",
    "t=pData[14,i,frame]\n",
    "\n",
    "q0=pData[16,i,frame]\n",
    "q1=-pData[18,i,frame] #swap q1 --> -q2\n",
    "q2=-pData[17,i,frame] # q2 --> -q3\n",
    "q3=-pData[19,i,frame] # q3 --> -q1\n",
    "\n",
    "r = np.quaternion(q0, q1, q2, q3)\n",
    "r_z, r_y, r_x = np.rad2deg(quaternion.as_euler_angles(r))\n",
    "\n",
    "print(r_z, r_y, r_x)\n",
    "drawParticle_overlay(i,frame)"
   ]
  },
  {
   "cell_type": "markdown",
   "metadata": {},
   "source": [
    "# Average Euler Angles"
   ]
  },
  {
   "cell_type": "code",
   "execution_count": null,
   "metadata": {
    "code_folding": [
     0
    ]
   },
   "outputs": [],
   "source": [
    "def averageEuler_np(angle, bin_num):\n",
    "    \n",
    "    r_z,r_y,r_x=[],[],[]\n",
    "    for i in range(len(df['q0'])):\n",
    "        r = np.quaternion(df.q0.iloc[i], df.q1.iloc[i], df.q2.iloc[i], df.q3.iloc[i])\n",
    "        f = np.rad2deg(quaternion.as_euler_angles(r))\n",
    "        r_z.append(f[0])\n",
    "        r_y.append(f[1])\n",
    "        r_x.append(f[2])\n",
    "\n",
    "    df['r_z'] = r_z\n",
    "    df['r_y'] = r_y\n",
    "    df['r_x'] = r_x\n",
    "\n",
    "    SE_a_vals = df.SE_a.unique()\n",
    "    SE_a_1 = df[df.SE_a == SE_a_vals[0]]\n",
    "    SE_a_2 = df[df.SE_a == SE_a_vals[1]]\n",
    "\n",
    "    #Bins and calculating average angles\n",
    "\n",
    "    if angle == 'x':\n",
    "        y_bins,bin_edges,misc = bstat(SE_a_1['xp'], SE_a_1['r_x'], statistic = 'mean', bins = bin_num)\n",
    "        std, bin_edges,misc = bstat(SE_a_1['xp'], SE_a_1['r_x'], statistic = 'std', bins = bin_num)\n",
    "        y_bins2,bin_edges,misc = bstat(SE_a_2['xp'], SE_a_2['r_x'], statistic = 'mean', bins = bin_num)\n",
    "        std2, bin_edges,misc = bstat(SE_a_2['xp'], SE_a_2['r_x'], statistic = 'std', bins = bin_num)\n",
    "\n",
    "    if angle == 'y':\n",
    "        y_bins,bin_edges,misc = bstat(SE_a_1['xp'], SE_a_1['r_y'], statistic = 'mean', bins = bin_num)\n",
    "        y_bins2,bin_edges,misc = bstat(SE_a_2['xp'], SE_a_2['r_y'], statistic = 'mean', bins = bin_num)\n",
    "        std, bin_edges,misc = bstat(SE_a_1['xp'], SE_a_1['r_y'], statistic = 'std', bins = bin_num)\n",
    "        std2, bin_edges,misc = bstat(SE_a_2['xp'], SE_a_2['r_y'], statistic = 'std', bins = bin_num)\n",
    "\n",
    "    if angle == 'z':\n",
    "        y_bins,bin_edges,misc = bstat(SE_a_1['xp'], SE_a_1['r_z'], statistic = 'mean', bins = bin_num)\n",
    "        std, bin_edges,misc = bstat(SE_a_1['xp'], SE_a_1['r_z'], statistic = 'std', bins = bin_num)\n",
    "        y_bins2,bin_edges,misc = bstat(SE_a_2['xp'], SE_a_2['r_z'], statistic = 'mean', bins = bin_num)\n",
    "        std2, bin_edges,misc = bstat(SE_a_2['xp'], SE_a_2['r_z'], statistic = 'std', bins = bin_num)\n",
    "\n",
    "    #Total Mean\n",
    "    \n",
    "    #Figure    \n",
    "    x_bins = (bin_edges[:-1]+bin_edges[1:])/2\n",
    "\n",
    "    fig = plt.figure()\n",
    "    ax1 = fig.add_subplot(111)\n",
    "\n",
    "    ax1.plot(x_bins, y_bins, label='First Group -- Disks', color='blue')\n",
    "    ax1.plot(x_bins, y_bins2, label='Second Group -- Rods', color='orange')\n",
    "    \n",
    "    ax1.plot(x_bins, y_bins+std, label='Std -- Disks', color='blue', linestyle='dashed',alpha=0.3)\n",
    "    ax1.plot(x_bins, y_bins-std, label='Std -- Disks', color='blue', linestyle='dashed',alpha=0.3)\n",
    "    ax1.plot(x_bins, y_bins2+std2, label='Std -- Rods', color='orange', linestyle='dashed',alpha=0.3)\n",
    "    ax1.plot(x_bins, y_bins2-std2, label='Std -- Rods', color='orange', linestyle='dashed',alpha=0.3)\n",
    "\n",
    "#     pylab.plot(x_bins, y_bins)\n",
    "    pylab.ylim(-180,180)\n",
    "    plt.legend(bbox_to_anchor=(1.05, 1), loc='upper left', borderaxespad=0.)\n",
    "\n",
    "    return plt.show()"
   ]
  },
  {
   "cell_type": "code",
   "execution_count": null,
   "metadata": {
    "code_folding": [
     0
    ]
   },
   "outputs": [],
   "source": [
    "def averageEuler_sci(angle, bin_num):\n",
    "    \n",
    "    r_z,r_y,r_x=[],[],[]\n",
    "    for i in range(len(df['q0'])):\n",
    "        r = R.from_quat([df.q0.iloc[i], df.q1.iloc[i], df.q2.iloc[i], df.q3.iloc[i]])\n",
    "        f = r.as_euler('zyx', degrees = True)\n",
    "        r_z.append(f[0])\n",
    "        r_y.append(f[1])\n",
    "        r_x.append(f[2])\n",
    "\n",
    "    df['r_z'] = r_z\n",
    "    df['r_y'] = r_y\n",
    "    df['r_x'] = r_x\n",
    "\n",
    "    SE_a_vals = df.SE_a.unique()\n",
    "    SE_a_1 = df[df.SE_a == SE_a_vals[0]]\n",
    "    SE_a_2 = df[df.SE_a == SE_a_vals[1]]\n",
    "\n",
    "    #Bins and calculating average angles\n",
    "\n",
    "    if angle == 'x':\n",
    "        y_bins,bin_edges,misc = bstat(SE_a_1['xp'], SE_a_1['r_x'], statistic = 'mean', bins = bin_num)\n",
    "        std, bin_edges,misc = bstat(SE_a_1['xp'], SE_a_1['r_x'], statistic = 'std', bins = bin_num)\n",
    "        y_bins2,bin_edges,misc = bstat(SE_a_2['xp'], SE_a_2['r_x'], statistic = 'mean', bins = bin_num)\n",
    "        std2, bin_edges,misc = bstat(SE_a_2['xp'], SE_a_2['r_x'], statistic = 'std', bins = bin_num)\n",
    "\n",
    "    if angle == 'y':\n",
    "        y_bins,bin_edges,misc = bstat(SE_a_1['xp'], SE_a_1['r_y'], statistic = 'mean', bins = bin_num)\n",
    "        y_bins2,bin_edges,misc = bstat(SE_a_2['xp'], SE_a_2['r_y'], statistic = 'mean', bins = bin_num)\n",
    "        std, bin_edges,misc = bstat(SE_a_1['xp'], SE_a_1['r_y'], statistic = 'std', bins = bin_num)\n",
    "        std2, bin_edges,misc = bstat(SE_a_2['xp'], SE_a_2['r_y'], statistic = 'std', bins = bin_num)\n",
    "\n",
    "    if angle == 'z':\n",
    "        y_bins,bin_edges,misc = bstat(SE_a_1['xp'], SE_a_1['r_z'], statistic = 'mean', bins = bin_num)\n",
    "        std, bin_edges,misc = bstat(SE_a_1['xp'], SE_a_1['r_z'], statistic = 'std', bins = bin_num)\n",
    "        y_bins2,bin_edges,misc = bstat(SE_a_2['xp'], SE_a_2['r_z'], statistic = 'mean', bins = bin_num)\n",
    "        std2, bin_edges,misc = bstat(SE_a_2['xp'], SE_a_2['r_z'], statistic = 'std', bins = bin_num)\n",
    "\n",
    "    #Total Mean\n",
    "    \n",
    "    #Figure    \n",
    "    x_bins = (bin_edges[:-1]+bin_edges[1:])/2\n",
    "\n",
    "    fig = plt.figure()\n",
    "    ax1 = fig.add_subplot(111)\n",
    "\n",
    "    ax1.plot(x_bins, y_bins, label='First Group -- Disks', color='blue')\n",
    "    ax1.plot(x_bins, y_bins2, label='Second Group -- Rods', color='orange')\n",
    "    \n",
    "    ax1.plot(x_bins, y_bins+std, label='Std -- Disks', color='blue', linestyle='dashed',alpha=0.3)\n",
    "    ax1.plot(x_bins, y_bins-std, label='Std -- Disks', color='blue', linestyle='dashed',alpha=0.3)\n",
    "    ax1.plot(x_bins, y_bins2+std2, label='Std -- Rods', color='orange', linestyle='dashed',alpha=0.3)\n",
    "    ax1.plot(x_bins, y_bins2-std2, label='Std -- Rods', color='orange', linestyle='dashed',alpha=0.3)\n",
    "\n",
    "#     pylab.plot(x_bins, y_bins)\n",
    "    pylab.ylim(-180,180)\n",
    "    plt.legend(bbox_to_anchor=(1.05, 1), loc='upper left', borderaxespad=0.)\n",
    "\n",
    "    return plt.show()"
   ]
  },
  {
   "cell_type": "code",
   "execution_count": null,
   "metadata": {
    "scrolled": true
   },
   "outputs": [],
   "source": [
    "averageEuler_np('z',25)\n",
    "averageEuler_np('y',25)\n",
    "averageEuler_np('x',25)\n",
    "averageEuler_sci('z',25)\n",
    "averageEuler_sci('y',25)\n",
    "averageEuler_sci('x',25)"
   ]
  },
  {
   "cell_type": "markdown",
   "metadata": {},
   "source": [
    "# PDF One Bin"
   ]
  },
  {
   "cell_type": "code",
   "execution_count": null,
   "metadata": {
    "code_folding": [
     0
    ]
   },
   "outputs": [],
   "source": [
    "def OneKDE_np(bin_num, b, p):\n",
    "    \n",
    "    # Create a Dataframe and Cleanup\n",
    "    q, r_angles, r_matrix = [],[],[]\n",
    "    r_z, r_y, r_x = [],[],[]\n",
    "    for i in range(len(df['q0'])):\n",
    "        r = np.quaternion(df.q0.iloc[i], df.q1.iloc[i], df.q2.iloc[i], df.q3.iloc[i])\n",
    "        f = np.rad2deg(quaternion.as_euler_angles(r))\n",
    "        r_z.append(f[0])\n",
    "        r_y.append(f[1])\n",
    "        r_x.append(f[2])\n",
    "\n",
    "    df['r_z'] = r_z\n",
    "    df['r_y'] = r_y\n",
    "    df['r_x'] = r_x\n",
    "\n",
    "    SE_a_vals = df.SE_a.unique()\n",
    "    df_d = df[df.SE_a == SE_a_vals[p]]\n",
    "#     df_r = df[df.SE_a == SE_a_vals[1]]\n",
    "\n",
    "    #Divide Dataframe into bins\n",
    "    df_d = df_d.sort_values(by=['xp'])\n",
    "\n",
    "    df_d['bin'] = pd.cut(df_d.xp, bin_num, include_lowest = True)# create bins\n",
    "\n",
    "    group = df_d.groupby('bin')# group on bin\n",
    "\n",
    "    dfs = [group.get_group(x) for x in group.groups]# list comprehension to split groups into list of dataframes \n",
    "\n",
    "    #Plot the PDFS\n",
    "    fig, [[ax1, ax2, ax3], [ax4, ax5, ax6]] = plt.subplots(2, 3, figsize = (15,8))\n",
    "\n",
    "    plt.suptitle('KDE: One bin!', color='black')\n",
    "    ax1.set_xlim([-400,400])\n",
    "    ax2.set_xlim([-400,400])\n",
    "    ax3.set_xlim([-400,400])\n",
    "    ax4.set_xlim([-400,400])\n",
    "    ax5.set_xlim([-400,400])\n",
    "    ax6.set_xlim([-400,400])\n",
    "    # ax1.set_ylim([0,0.02])\n",
    "    # ax2.set_ylim([0,0.02])\n",
    "    # ax3.set_ylim([0,0.02])\n",
    "\n",
    "  \n",
    "    dfs[b]['r_z'].hist(ax=ax1)\n",
    "    dfs[b]['r_y'].hist(ax=ax2)\n",
    "    dfs[b]['r_x'].hist(ax=ax3)\n",
    "    dfs[b]['r_z'].plot.density(ax=ax4)\n",
    "    dfs[b]['r_y'].plot.density(ax=ax5)\n",
    "    dfs[b]['r_x'].plot.density(ax=ax6)\n",
    "    \n",
    "    # sns.kdeplot(data=df_d, x=\"r_x\")\n",
    "    # df['r_x'].plot.density(label='pandas density', lw=2)\n",
    "    return plt.show()"
   ]
  },
  {
   "cell_type": "code",
   "execution_count": null,
   "metadata": {
    "code_folding": [
     0
    ]
   },
   "outputs": [],
   "source": [
    "def OneKDE_sci(bin_num, b, p):\n",
    "    \n",
    "    # Create a Dataframe and Cleanup\n",
    "    q, r_angles, r_matrix = [],[],[]\n",
    "    r_z, r_y, r_x = [],[],[]\n",
    "    for i in range(len(df['q0'])):\n",
    "        r = R.from_quat([df.q0.iloc[i], df.q1.iloc[i], df.q2.iloc[i], df.q3.iloc[i]])\n",
    "        f = r.as_euler('zyx', degrees = True)\n",
    "        r_z.append(f[0])\n",
    "        r_y.append(f[1])\n",
    "        r_x.append(f[2])\n",
    "\n",
    "    df['r_z'] = r_z\n",
    "    df['r_y'] = r_y\n",
    "    df['r_x'] = r_x\n",
    "\n",
    "    SE_a_vals = df.SE_a.unique()\n",
    "    df_d = df[df.SE_a == SE_a_vals[p]]\n",
    "#     df_r = df[df.SE_a == SE_a_vals[1]]\n",
    "\n",
    "    #Divide Dataframe into bins\n",
    "    df_d = df_d.sort_values(by=['xp'])\n",
    "\n",
    "    df_d['bin'] = pd.cut(df_d.xp, bin_num, include_lowest = True)# create bins\n",
    "\n",
    "    group = df_d.groupby('bin')# group on bin\n",
    "\n",
    "    dfs = [group.get_group(x) for x in group.groups]# list comprehension to split groups into list of dataframes \n",
    "\n",
    "    #Plot the PDFS\n",
    "    fig, [[ax1, ax2, ax3], [ax4, ax5, ax6]] = plt.subplots(2, 3, figsize = (15,8))\n",
    "\n",
    "    plt.suptitle('KDE: One bin!', color='black')\n",
    "    ax1.set_xlim([-400,400])\n",
    "    ax2.set_xlim([-400,400])\n",
    "    ax3.set_xlim([-400,400])\n",
    "    ax4.set_xlim([-400,400])\n",
    "    ax5.set_xlim([-400,400])\n",
    "    ax6.set_xlim([-400,400])\n",
    "    # ax1.set_ylim([0,0.02])\n",
    "    # ax2.set_ylim([0,0.02])\n",
    "    # ax3.set_ylim([0,0.02])\n",
    "\n",
    "  \n",
    "    dfs[b]['r_z'].hist(ax=ax1)\n",
    "    dfs[b]['r_y'].hist(ax=ax2)\n",
    "    dfs[b]['r_x'].hist(ax=ax3)\n",
    "    dfs[b]['r_z'].plot.density(ax=ax4)\n",
    "    dfs[b]['r_y'].plot.density(ax=ax5)\n",
    "    dfs[b]['r_x'].plot.density(ax=ax6)\n",
    "    \n",
    "    # sns.kdeplot(data=df_d, x=\"r_x\")\n",
    "    # df['r_x'].plot.density(label='pandas density', lw=2)\n",
    "    return plt.show()"
   ]
  },
  {
   "cell_type": "code",
   "execution_count": null,
   "metadata": {},
   "outputs": [],
   "source": [
    "OneKDE_np(10,0,0)\n",
    "OneKDE_sci(10,0,0)"
   ]
  },
  {
   "cell_type": "markdown",
   "metadata": {},
   "source": [
    "# PDF Multiple Bins"
   ]
  },
  {
   "cell_type": "code",
   "execution_count": null,
   "metadata": {
    "code_folding": [
     0
    ]
   },
   "outputs": [],
   "source": [
    "def MultipleKDE_np(bin_num):\n",
    "    \n",
    "    # Create a Dataframe and Cleanup\n",
    "    q, r_angles, r_matrix = [],[],[]\n",
    "    r_z, r_y, r_x = [],[],[]\n",
    "    for i in range(len(df['q0'])):\n",
    "        r = np.quaternion(df.q0.iloc[i], df.q1.iloc[i], df.q2.iloc[i], df.q3.iloc[i])\n",
    "        f = np.rad2deg(quaternion.as_euler_angles(r))\n",
    "        r_z.append(f[0])\n",
    "        r_y.append(f[1])\n",
    "        r_x.append(f[2])\n",
    "\n",
    "    df['r_z'] = r_z\n",
    "    df['r_y'] = r_y\n",
    "    df['r_x'] = r_x\n",
    "\n",
    "    SE_a_vals = df.SE_a.unique()\n",
    "    df_d = df[df.SE_a == SE_a_vals[0]]\n",
    "    df_r = df[df.SE_a == SE_a_vals[1]]\n",
    "    dd_mean_x= df_d.r_x.mean()\n",
    "    dd_mean_y= df_d.r_y.mean()\n",
    "    dd_mean_z= df_d.r_z.mean()\n",
    "    dr_mean_x= df_r.r_x.mean()\n",
    "    dr_mean_y= df_r.r_y.mean()\n",
    "    dr_mean_z= df_r.r_z.mean()\n",
    "    \n",
    "    #Divide Dataframe into bins\n",
    "    df_d = df_d.sort_values(by=['xp'])\n",
    "    df_r = df_r.sort_values(by=['xp'])\n",
    "\n",
    "    df_d['bin'] = pd.cut(df_d.xp, bin_num, include_lowest = True)# create bins\n",
    "    df_r['bin'] = pd.cut(df_r.xp, bin_num, include_lowest = True)# create bins\n",
    "\n",
    "    group = df_d.groupby('bin')# group on bin\n",
    "    group_2 = df_r.groupby('bin')# group on bin\n",
    "\n",
    "    dfs_d = [group.get_group(x) for x in group.groups]# list comprehension to split groups into list of dataframes \n",
    "    dfs_r = [group_2.get_group(x) for x in group_2.groups]# list comprehension to split groups into list of dataframes \n",
    "\n",
    "    #Plot the PDFS\n",
    "    fig, [[ax1, ax2, ax3],[ax4,ax5,ax6]] = plt.subplots(2, 3, figsize = (15,8))\n",
    "\n",
    "    plt.suptitle('KDE: Multiple bins!', color='black')\n",
    "    ax1.set_xlim([-400,400])\n",
    "    ax2.set_xlim([-400,400])\n",
    "    ax3.set_xlim([-400,400])\n",
    "    ax4.set_xlim([-400,400])\n",
    "    ax5.set_xlim([-400,400])\n",
    "    ax6.set_xlim([-400,400])\n",
    "    # ax1.set_ylim([0,0.02])\n",
    "    # ax2.set_ylim([0,0.02])\n",
    "    # ax3.set_ylim([0,0.02])\n",
    "\n",
    "    for i in range(bin_num):\n",
    "        dfs_d[i]['r_z'].plot.density(ax=ax1)\n",
    "        dfs_d[i]['r_y'].plot.density(ax=ax2)\n",
    "        dfs_d[i]['r_x'].plot.density(ax=ax3)\n",
    "        dfs_r[i]['r_z'].plot.density(ax=ax4)\n",
    "        dfs_r[i]['r_y'].plot.density(ax=ax5)\n",
    "        dfs_r[i]['r_x'].plot.density(ax=ax6)    \n",
    "        \n",
    "    # fig.text(0.04, 0.5, 'common Y', va='center', rotation='vertical')\n",
    "    # sns.kdeplot(data=df_d, x=\"r_x\")\n",
    "    # df['r_x'].plot.density(label='pandas density', lw=2)\n",
    "    \n",
    "    return plt.show(), print('The Disk Mean (zyx):', dd_mean_z, dd_mean_y, dd_mean_x, '\\nThe Rod Mean (zyx):', dr_mean_z, dr_mean_y, dr_mean_z)"
   ]
  },
  {
   "cell_type": "code",
   "execution_count": null,
   "metadata": {
    "code_folding": [
     0
    ]
   },
   "outputs": [],
   "source": [
    "def MultipleKDE_sci(bin_num):\n",
    "    \n",
    "    # Create a Dataframe and Cleanup\n",
    "    q, r_angles, r_matrix = [],[],[]\n",
    "    r_z, r_y, r_x = [],[],[]\n",
    "    for i in range(len(df['q0'])):\n",
    "        r = R.from_quat([df.q0.iloc[i], df.q1.iloc[i], df.q2.iloc[i], df.q3.iloc[i]])\n",
    "        f = r.as_euler('zyx', degrees = True)\n",
    "        r_z.append(f[0])\n",
    "        r_y.append(f[1])\n",
    "        r_x.append(f[2])\n",
    "\n",
    "    df['r_z'] = r_z\n",
    "    df['r_y'] = r_y\n",
    "    df['r_x'] = r_x\n",
    "\n",
    "    SE_a_vals = df.SE_a.unique()\n",
    "    df_d = df[df.SE_a == SE_a_vals[0]]\n",
    "    df_r = df[df.SE_a == SE_a_vals[1]]\n",
    "    dd_mean_x= df_d.r_x.mean()\n",
    "    dd_mean_y= df_d.r_y.mean()\n",
    "    dd_mean_z= df_d.r_z.mean()\n",
    "    dr_mean_x= df_r.r_x.mean()\n",
    "    dr_mean_y= df_r.r_y.mean()\n",
    "    dr_mean_z= df_r.r_z.mean()\n",
    "    \n",
    "    #Divide Dataframe into bins\n",
    "    df_d = df_d.sort_values(by=['xp'])\n",
    "    df_r = df_r.sort_values(by=['xp'])\n",
    "\n",
    "    df_d['bin'] = pd.cut(df_d.xp, bin_num, include_lowest = True)# create bins\n",
    "    df_r['bin'] = pd.cut(df_r.xp, bin_num, include_lowest = True)# create bins\n",
    "\n",
    "    group = df_d.groupby('bin')# group on bin\n",
    "    group_2 = df_r.groupby('bin')# group on bin\n",
    "\n",
    "    dfs_d = [group.get_group(x) for x in group.groups]# list comprehension to split groups into list of dataframes \n",
    "    dfs_r = [group_2.get_group(x) for x in group_2.groups]# list comprehension to split groups into list of dataframes \n",
    "\n",
    "    #Plot the PDFS\n",
    "    fig, [[ax1, ax2, ax3],[ax4,ax5,ax6]] = plt.subplots(2, 3, figsize = (15,8))\n",
    "\n",
    "    plt.suptitle('KDE: Multiple bins!', color='black')\n",
    "    ax1.set_xlim([-400,400])\n",
    "    ax2.set_xlim([-400,400])\n",
    "    ax3.set_xlim([-400,400])\n",
    "    ax4.set_xlim([-400,400])\n",
    "    ax5.set_xlim([-400,400])\n",
    "    ax6.set_xlim([-400,400])\n",
    "    # ax1.set_ylim([0,0.02])\n",
    "    # ax2.set_ylim([0,0.02])\n",
    "    # ax3.set_ylim([0,0.02])\n",
    "\n",
    "    for i in range(bin_num):\n",
    "        dfs_d[i]['r_z'].plot.density(ax=ax1)\n",
    "        dfs_d[i]['r_y'].plot.density(ax=ax2)\n",
    "        dfs_d[i]['r_x'].plot.density(ax=ax3)\n",
    "        dfs_r[i]['r_z'].plot.density(ax=ax4)\n",
    "        dfs_r[i]['r_y'].plot.density(ax=ax5)\n",
    "        dfs_r[i]['r_x'].plot.density(ax=ax6)    \n",
    "        \n",
    "    # fig.text(0.04, 0.5, 'common Y', va='center', rotation='vertical')\n",
    "    # sns.kdeplot(data=df_d, x=\"r_x\")\n",
    "    # df['r_x'].plot.density(label='pandas density', lw=2)\n",
    "    \n",
    "    return plt.show(), print('The Disk Mean (zyx):', dd_mean_z, dd_mean_y, dd_mean_x, '\\nThe Rod Mean (zyx):', dr_mean_z, dr_mean_y, dr_mean_z)"
   ]
  },
  {
   "cell_type": "code",
   "execution_count": null,
   "metadata": {},
   "outputs": [],
   "source": [
    "MultipleKDE_np(10)\n",
    "MultipleKDE_sci(10)"
   ]
  },
  {
   "cell_type": "markdown",
   "metadata": {},
   "source": [
    "# One Particle Rotating"
   ]
  },
  {
   "cell_type": "markdown",
   "metadata": {},
   "source": [
    "Some Particles have a constant quaternion --- therefore no omega x, z, y"
   ]
  },
  {
   "cell_type": "code",
   "execution_count": null,
   "metadata": {
    "code_folding": []
   },
   "outputs": [],
   "source": [
    "particle=14\n",
    "particle_id = 14\n",
    "\n",
    "df = pd.DataFrame(data={\n",
    "    'xp': pData[4,particle, :],\n",
    "    'yp': pData[2,particle,:],\n",
    "    'zp':pData[3,particle,:],\n",
    "    'SE_a': pData[11,particle, :],\n",
    "    'omgx': pData[8,particle,:],\n",
    "    'omgz': pData[9,particle,:],\n",
    "    'omgy': pData[10,particle,:],\n",
    "    'q0': pData[16,particle,:],\n",
    "    'q1': pData[17,particle,:],\n",
    "    'q2': pData[18,particle,:],\n",
    "    'q3': pData[19,particle,:]})\n",
    "\n",
    "import numpy as np\n",
    "from mayavi import mlab\n",
    "\n",
    "\n",
    "x, y, z = np.ogrid[-0.009:0.009:100j, -0.005:0.005:100j, -0.005:0.005:100j]\n",
    "particle_id = 14\n",
    "s, t = 2, 8\n",
    "\n",
    "@mlab.animate(delay=500)\n",
    "def anim():\n",
    "    for frame in range(48):\n",
    "        a, b, c = pData[11,particle_id,frame], pData[12,particle_id,frame], pData[13,particle_id,frame]\n",
    "        q0 = pData[16, particle_id, frame]\n",
    "        q1 = pData[17, particle_id, frame]\n",
    "        q2 = pData[18, particle_id, frame]\n",
    "        q3 = pData[19, particle_id, frame]\n",
    "        q = Quaternion(q0,q1,q2,q3)\n",
    "        R = q.rotation_matrix\n",
    "        \n",
    "        x_0,y_0,z_0=0,0,0\n",
    "        F_r = ((((R[0][0]*(x-x_0)+R[1][0]*(y-y_0)+R[2][0]*(z-z_0))/a)**s) + (((R[0][1]*(x-x_0)+R[1][1]*(y-y_0)+R[2][1]*(z-z_0))/b)**s))**(s/t)+(((R[0][2]*(x-x_0)+R[1][2]*(y-y_0)+R[2][2]*(z-z_0))/c)**t)-1\n",
    "        mlab.contour3d(F_r, contours = [0], color=(0.2, 0.4, 0.5), transparent = True)\n",
    "#         time.sleep(10)\n",
    "#         mlab.clf()\n",
    "        yield\n",
    "\n",
    "anim()\n",
    "mlab.axes()\n",
    "mlab.outline()\n",
    "mlab.show()\n"
   ]
  }
 ],
 "metadata": {
  "kernelspec": {
   "display_name": "Python 3",
   "language": "python",
   "name": "python3"
  },
  "language_info": {
   "codemirror_mode": {
    "name": "ipython",
    "version": 3
   },
   "file_extension": ".py",
   "mimetype": "text/x-python",
   "name": "python",
   "nbconvert_exporter": "python",
   "pygments_lexer": "ipython3",
   "version": "3.8.5"
  },
  "toc": {
   "base_numbering": 1,
   "nav_menu": {},
   "number_sections": true,
   "sideBar": true,
   "skip_h1_title": false,
   "title_cell": "Table of Contents",
   "title_sidebar": "Contents",
   "toc_cell": false,
   "toc_position": {
    "height": "calc(100% - 180px)",
    "left": "10px",
    "top": "150px",
    "width": "279.746px"
   },
   "toc_section_display": true,
   "toc_window_display": true
  }
 },
 "nbformat": 4,
 "nbformat_minor": 4
}
